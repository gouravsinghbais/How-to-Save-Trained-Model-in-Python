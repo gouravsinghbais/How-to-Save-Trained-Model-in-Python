{
 "cells": [
  {
   "cell_type": "markdown",
   "id": "820d661a",
   "metadata": {},
   "source": [
    "## Load Dependencies"
   ]
  },
  {
   "cell_type": "code",
   "execution_count": 1,
   "id": "332fcc8a",
   "metadata": {},
   "outputs": [],
   "source": [
    "# load dependencies\n",
    "import pandas as pd \n",
    "\n",
    "from sklearn.model_selection import train_test_split\n",
    "from sklearn.preprocessing import StandardScaler \n",
    "from sklearn.neighbors import KNeighborsClassifier\n",
    "from sklearn.metrics import classification_report, confusion_matrix"
   ]
  },
  {
   "cell_type": "markdown",
   "id": "0263d3af",
   "metadata": {},
   "source": [
    "## Load Dataset"
   ]
  },
  {
   "cell_type": "code",
   "execution_count": 2,
   "id": "27842346",
   "metadata": {},
   "outputs": [
    {
     "data": {
      "text/html": [
       "<div>\n",
       "<style scoped>\n",
       "    .dataframe tbody tr th:only-of-type {\n",
       "        vertical-align: middle;\n",
       "    }\n",
       "\n",
       "    .dataframe tbody tr th {\n",
       "        vertical-align: top;\n",
       "    }\n",
       "\n",
       "    .dataframe thead th {\n",
       "        text-align: right;\n",
       "    }\n",
       "</style>\n",
       "<table border=\"1\" class=\"dataframe\">\n",
       "  <thead>\n",
       "    <tr style=\"text-align: right;\">\n",
       "      <th></th>\n",
       "      <th>sepal-length</th>\n",
       "      <th>sepal-width</th>\n",
       "      <th>petal-length</th>\n",
       "      <th>petal-width</th>\n",
       "      <th>Class</th>\n",
       "    </tr>\n",
       "  </thead>\n",
       "  <tbody>\n",
       "    <tr>\n",
       "      <th>0</th>\n",
       "      <td>5.1</td>\n",
       "      <td>3.5</td>\n",
       "      <td>1.4</td>\n",
       "      <td>0.2</td>\n",
       "      <td>Iris-setosa</td>\n",
       "    </tr>\n",
       "    <tr>\n",
       "      <th>1</th>\n",
       "      <td>4.9</td>\n",
       "      <td>3.0</td>\n",
       "      <td>1.4</td>\n",
       "      <td>0.2</td>\n",
       "      <td>Iris-setosa</td>\n",
       "    </tr>\n",
       "    <tr>\n",
       "      <th>2</th>\n",
       "      <td>4.7</td>\n",
       "      <td>3.2</td>\n",
       "      <td>1.3</td>\n",
       "      <td>0.2</td>\n",
       "      <td>Iris-setosa</td>\n",
       "    </tr>\n",
       "    <tr>\n",
       "      <th>3</th>\n",
       "      <td>4.6</td>\n",
       "      <td>3.1</td>\n",
       "      <td>1.5</td>\n",
       "      <td>0.2</td>\n",
       "      <td>Iris-setosa</td>\n",
       "    </tr>\n",
       "    <tr>\n",
       "      <th>4</th>\n",
       "      <td>5.0</td>\n",
       "      <td>3.6</td>\n",
       "      <td>1.4</td>\n",
       "      <td>0.2</td>\n",
       "      <td>Iris-setosa</td>\n",
       "    </tr>\n",
       "  </tbody>\n",
       "</table>\n",
       "</div>"
      ],
      "text/plain": [
       "   sepal-length  sepal-width  petal-length  petal-width        Class\n",
       "0           5.1          3.5           1.4          0.2  Iris-setosa\n",
       "1           4.9          3.0           1.4          0.2  Iris-setosa\n",
       "2           4.7          3.2           1.3          0.2  Iris-setosa\n",
       "3           4.6          3.1           1.5          0.2  Iris-setosa\n",
       "4           5.0          3.6           1.4          0.2  Iris-setosa"
      ]
     },
     "execution_count": 2,
     "metadata": {},
     "output_type": "execute_result"
    }
   ],
   "source": [
    "# load the dataset\n",
    "url = \"iris.data\"\n",
    "\n",
    "# column names to use\n",
    "names = ['sepal-length', 'sepal-width', 'petal-length', 'petal-width', 'Class']\n",
    "\n",
    "# read the dataset from URL\n",
    "dataset = pd.read_csv(url, names=names) \n",
    "\n",
    "# check first few rows of data\n",
    "dataset.head()"
   ]
  },
  {
   "cell_type": "markdown",
   "id": "e7792929",
   "metadata": {},
   "source": [
    "## Split Data and Standardize Features"
   ]
  },
  {
   "cell_type": "code",
   "execution_count": 3,
   "id": "1befb6bc",
   "metadata": {},
   "outputs": [],
   "source": [
    "# seperate the independent and dependent features\n",
    "X = dataset.iloc[:, :-1].values\n",
    "y = dataset.iloc[:, 4].values \n",
    "\n",
    "# Split dataset into random training and testing subsets\n",
    "X_train, X_test, y_train, y_test = train_test_split(X, y, test_size=0.20) \n",
    "\n",
    "# feature standardization\n",
    "scaler = StandardScaler()\n",
    "scaler.fit(X_train)\n",
    "\n",
    "X_train = scaler.transform(X_train)\n",
    "X_test = scaler.transform(X_test) "
   ]
  },
  {
   "cell_type": "markdown",
   "id": "79291353",
   "metadata": {},
   "source": [
    "## Train Classifier"
   ]
  },
  {
   "cell_type": "code",
   "execution_count": 4,
   "id": "8391d382",
   "metadata": {},
   "outputs": [
    {
     "data": {
      "text/html": [
       "<style>#sk-container-id-1 {color: black;background-color: white;}#sk-container-id-1 pre{padding: 0;}#sk-container-id-1 div.sk-toggleable {background-color: white;}#sk-container-id-1 label.sk-toggleable__label {cursor: pointer;display: block;width: 100%;margin-bottom: 0;padding: 0.3em;box-sizing: border-box;text-align: center;}#sk-container-id-1 label.sk-toggleable__label-arrow:before {content: \"▸\";float: left;margin-right: 0.25em;color: #696969;}#sk-container-id-1 label.sk-toggleable__label-arrow:hover:before {color: black;}#sk-container-id-1 div.sk-estimator:hover label.sk-toggleable__label-arrow:before {color: black;}#sk-container-id-1 div.sk-toggleable__content {max-height: 0;max-width: 0;overflow: hidden;text-align: left;background-color: #f0f8ff;}#sk-container-id-1 div.sk-toggleable__content pre {margin: 0.2em;color: black;border-radius: 0.25em;background-color: #f0f8ff;}#sk-container-id-1 input.sk-toggleable__control:checked~div.sk-toggleable__content {max-height: 200px;max-width: 100%;overflow: auto;}#sk-container-id-1 input.sk-toggleable__control:checked~label.sk-toggleable__label-arrow:before {content: \"▾\";}#sk-container-id-1 div.sk-estimator input.sk-toggleable__control:checked~label.sk-toggleable__label {background-color: #d4ebff;}#sk-container-id-1 div.sk-label input.sk-toggleable__control:checked~label.sk-toggleable__label {background-color: #d4ebff;}#sk-container-id-1 input.sk-hidden--visually {border: 0;clip: rect(1px 1px 1px 1px);clip: rect(1px, 1px, 1px, 1px);height: 1px;margin: -1px;overflow: hidden;padding: 0;position: absolute;width: 1px;}#sk-container-id-1 div.sk-estimator {font-family: monospace;background-color: #f0f8ff;border: 1px dotted black;border-radius: 0.25em;box-sizing: border-box;margin-bottom: 0.5em;}#sk-container-id-1 div.sk-estimator:hover {background-color: #d4ebff;}#sk-container-id-1 div.sk-parallel-item::after {content: \"\";width: 100%;border-bottom: 1px solid gray;flex-grow: 1;}#sk-container-id-1 div.sk-label:hover label.sk-toggleable__label {background-color: #d4ebff;}#sk-container-id-1 div.sk-serial::before {content: \"\";position: absolute;border-left: 1px solid gray;box-sizing: border-box;top: 0;bottom: 0;left: 50%;z-index: 0;}#sk-container-id-1 div.sk-serial {display: flex;flex-direction: column;align-items: center;background-color: white;padding-right: 0.2em;padding-left: 0.2em;position: relative;}#sk-container-id-1 div.sk-item {position: relative;z-index: 1;}#sk-container-id-1 div.sk-parallel {display: flex;align-items: stretch;justify-content: center;background-color: white;position: relative;}#sk-container-id-1 div.sk-item::before, #sk-container-id-1 div.sk-parallel-item::before {content: \"\";position: absolute;border-left: 1px solid gray;box-sizing: border-box;top: 0;bottom: 0;left: 50%;z-index: -1;}#sk-container-id-1 div.sk-parallel-item {display: flex;flex-direction: column;z-index: 1;position: relative;background-color: white;}#sk-container-id-1 div.sk-parallel-item:first-child::after {align-self: flex-end;width: 50%;}#sk-container-id-1 div.sk-parallel-item:last-child::after {align-self: flex-start;width: 50%;}#sk-container-id-1 div.sk-parallel-item:only-child::after {width: 0;}#sk-container-id-1 div.sk-dashed-wrapped {border: 1px dashed gray;margin: 0 0.4em 0.5em 0.4em;box-sizing: border-box;padding-bottom: 0.4em;background-color: white;}#sk-container-id-1 div.sk-label label {font-family: monospace;font-weight: bold;display: inline-block;line-height: 1.2em;}#sk-container-id-1 div.sk-label-container {text-align: center;}#sk-container-id-1 div.sk-container {/* jupyter's `normalize.less` sets `[hidden] { display: none; }` but bootstrap.min.css set `[hidden] { display: none !important; }` so we also need the `!important` here to be able to override the default hidden behavior on the sphinx rendered scikit-learn.org. See: https://github.com/scikit-learn/scikit-learn/issues/21755 */display: inline-block !important;position: relative;}#sk-container-id-1 div.sk-text-repr-fallback {display: none;}</style><div id=\"sk-container-id-1\" class=\"sk-top-container\"><div class=\"sk-text-repr-fallback\"><pre>KNeighborsClassifier()</pre><b>In a Jupyter environment, please rerun this cell to show the HTML representation or trust the notebook. <br />On GitHub, the HTML representation is unable to render, please try loading this page with nbviewer.org.</b></div><div class=\"sk-container\" hidden><div class=\"sk-item\"><div class=\"sk-estimator sk-toggleable\"><input class=\"sk-toggleable__control sk-hidden--visually\" id=\"sk-estimator-id-1\" type=\"checkbox\" checked><label for=\"sk-estimator-id-1\" class=\"sk-toggleable__label sk-toggleable__label-arrow\">KNeighborsClassifier</label><div class=\"sk-toggleable__content\"><pre>KNeighborsClassifier()</pre></div></div></div></div></div>"
      ],
      "text/plain": [
       "KNeighborsClassifier()"
      ]
     },
     "execution_count": 4,
     "metadata": {},
     "output_type": "execute_result"
    }
   ],
   "source": [
    "# training a KNN classifier\n",
    "clf_model = KNeighborsClassifier(n_neighbors=5)\n",
    "clf_model.fit(X_train, y_train) "
   ]
  },
  {
   "cell_type": "markdown",
   "id": "4a146f45",
   "metadata": {},
   "source": [
    "## Check Classifier Performance"
   ]
  },
  {
   "cell_type": "code",
   "execution_count": 5,
   "id": "c17b7eb7",
   "metadata": {},
   "outputs": [
    {
     "name": "stdout",
     "output_type": "stream",
     "text": [
      "[[11  0  0]\n",
      " [ 0  7  1]\n",
      " [ 0  3  8]]\n",
      "                 precision    recall  f1-score   support\n",
      "\n",
      "    Iris-setosa       1.00      1.00      1.00        11\n",
      "Iris-versicolor       0.70      0.88      0.78         8\n",
      " Iris-virginica       0.89      0.73      0.80        11\n",
      "\n",
      "       accuracy                           0.87        30\n",
      "      macro avg       0.86      0.87      0.86        30\n",
      "   weighted avg       0.88      0.87      0.87        30\n",
      "\n"
     ]
    }
   ],
   "source": [
    "# make prediction on the testing data\n",
    "y_predict = clf_model.predict(X_test)\n",
    "\n",
    "# check results\n",
    "print(confusion_matrix(y_test, y_predict))\n",
    "print(classification_report(y_test, y_predict)) "
   ]
  },
  {
   "cell_type": "markdown",
   "id": "697593a5",
   "metadata": {},
   "source": [
    "## Save Model with Neptune Model Registry"
   ]
  },
  {
   "cell_type": "code",
   "execution_count": 6,
   "id": "8f4b2ea1",
   "metadata": {},
   "outputs": [],
   "source": [
    "# import neptune\n",
    "# model = neptune.init_model(\n",
    "#     name=\"Prediction model\",\n",
    "#     key=\"MOD\", \n",
    "#     project=\"gouravbais08/iris-classification\", \n",
    "#     api_token=\"eyJhcGlfYWRkcmVzcyI6Imh0dHBzOi8vYXBwLm5lcHR1bmUuYWkiLCJhcGlfdXJsIjoiaHR0cHM6Ly9hcHAubmVwdHVuZS5haSIsImFwaV9rZXkiOiI1OWMxNDZlMS0zYWFlLTQ1YTMtYTgyZC00ZDg2YTQ2OWYxMzMifQ==\", # your credentials\n",
    "# )"
   ]
  },
  {
   "cell_type": "code",
   "execution_count": 7,
   "id": "a4b77fd2",
   "metadata": {},
   "outputs": [
    {
     "name": "stdout",
     "output_type": "stream",
     "text": [
      "https://app.neptune.ai/gouravbais08/iris-classification/m/IR-IRMOD\n"
     ]
    }
   ],
   "source": [
    "import neptune\n",
    "model = neptune.init_model(\n",
    "    name=\"Prediction model\",\n",
    "    key=\"IRMOD\", \n",
    "    project=\"gouravbais08/iris-classification\", \n",
    "    api_token=\"eyJhcGlfYWRkcmVzcyI6Imh0dHBzOi8vYXBwLm5lcHR1bmUuYWkiLCJhcGlfdXJsIjoiaHR0cHM6Ly9hcHAubmVwdHVuZS5haSIsImFwaV9rZXkiOiI1OWMxNDZlMS0zYWFlLTQ1YTMtYTgyZC00ZDg2YTQ2OWYxMzMifQ==\", # your credentials\n",
    ")"
   ]
  },
  {
   "cell_type": "code",
   "execution_count": 8,
   "id": "6351aa2f",
   "metadata": {},
   "outputs": [],
   "source": [
    "# assign the model metadata to model object \n",
    "model_info = {\"size_limit\": 7.09, \"size_units\": \"KB\"}\n",
    "model[\"model\"] = model_info"
   ]
  },
  {
   "cell_type": "code",
   "execution_count": 9,
   "id": "3aeb5739",
   "metadata": {},
   "outputs": [],
   "source": [
    "# upload the model to neptune model registry\n",
    "model[\"model/signature\"].upload(\"iris_classifier_model.pkl\")"
   ]
  },
  {
   "cell_type": "code",
   "execution_count": 10,
   "id": "01cfa39e",
   "metadata": {},
   "outputs": [],
   "source": [
    "# track dataset version\n",
    "model[\"data/train_and_test\"].track_files(\"iris.data\")"
   ]
  },
  {
   "cell_type": "code",
   "execution_count": 11,
   "id": "bd1bc11f",
   "metadata": {},
   "outputs": [
    {
     "name": "stdout",
     "output_type": "stream",
     "text": [
      "Shutting down background jobs, please wait a moment...\n",
      "Done!\n",
      "Waiting for the remaining 5 operations to synchronize with Neptune. Do not kill this process.\n",
      "All 5 operations synced, thanks for waiting!\n",
      "Explore the metadata in the Neptune app:\n",
      "https://app.neptune.ai/gouravbais08/iris-classification/m/IR-IRMOD/metadata\n"
     ]
    }
   ],
   "source": [
    "model.stop()"
   ]
  },
  {
   "cell_type": "markdown",
   "id": "eac45776",
   "metadata": {},
   "source": [
    "## Version the Model"
   ]
  },
  {
   "cell_type": "code",
   "execution_count": 12,
   "id": "d3987acd",
   "metadata": {},
   "outputs": [
    {
     "name": "stdout",
     "output_type": "stream",
     "text": [
      "https://app.neptune.ai/gouravbais08/iris-classification/m/IR-IRMOD/v/IR-IRMOD-1\n"
     ]
    }
   ],
   "source": [
    "# initialize the ModelVersion \n",
    "import neptune\n",
    "model_version = neptune.init_model_version(\n",
    "    model=\"IR-IRMOD\",\n",
    "    project=\"gouravbais08/iris-classification\",\n",
    "    api_token=\"eyJhcGlfYWRkcmVzcyI6Imh0dHBzOi8vYXBwLm5lcHR1bmUuYWkiLCJhcGlfdXJsIjoiaHR0cHM6Ly9hcHAubmVwdHVuZS5haSIsImFwaV9rZXkiOiI1OWMxNDZlMS0zYWFlLTQ1YTMtYTgyZC00ZDg2YTQ2OWYxMzMifQ==\", # your credentials\n",
    ")"
   ]
  },
  {
   "cell_type": "code",
   "execution_count": 13,
   "id": "adbaab22",
   "metadata": {},
   "outputs": [
    {
     "name": "stderr",
     "output_type": "stream",
     "text": [
      "/var/folders/0k/ftvl7p0j58v4p29wsgrkgnvr0000gn/T/ipykernel_6330/3774705092.py:14: NeptuneUnsupportedType: You're attempting to log a type that is not directly supported by Neptune (<class 'NoneType'>).\n",
      "        Convert the value to a supported type, such as a string or float, or use stringify_unsupported(obj)\n",
      "        for dictionaries or collections that contain unsupported values.\n",
      "        For more, see https://docs.neptune.ai/help/value_of_unsupported_type\n",
      "  model_version[\"model/parameters\"] = parameters\n"
     ]
    }
   ],
   "source": [
    "# model parameters\n",
    "parameters = {\n",
    "    \"algorithm\": clf_model.get_params()['algorithm'],\n",
    "    \"max_iter\": clf_model.get_params()['leaf_size'],\n",
    "    \"solver\": clf_model.get_params()['metric'],\n",
    "    \"metric_params\": clf_model.get_params()['metric_params'],\n",
    "    \"n_jobs\": clf_model.get_params()['n_jobs'],\n",
    "    \"n_neighbors\": clf_model.get_params()['n_neighbors'],\n",
    "    \"p\": clf_model.get_params()['p'],\n",
    "    \"weights\": clf_model.get_params()['weights'],\n",
    "}\n",
    "\n",
    "# log model parameters and other metadata\n",
    "model_version[\"model/parameters\"] = parameters\n",
    "model_version[\"data/dataset\"].track_files(\"iris.data\")\n",
    "model_version[\"validation/acc\"] = 0.93"
   ]
  },
  {
   "cell_type": "code",
   "execution_count": 14,
   "id": "74accd40",
   "metadata": {},
   "outputs": [
    {
     "name": "stdout",
     "output_type": "stream",
     "text": [
      "Shutting down background jobs, please wait a moment...\n",
      "Done!\n",
      "Waiting for the remaining 9 operations to synchronize with Neptune. Do not kill this process.\n",
      "All 9 operations synced, thanks for waiting!\n",
      "Explore the metadata in the Neptune app:\n",
      "https://app.neptune.ai/gouravbais08/iris-classification/m/IR-IRMOD/v/IR-IRMOD-1/metadata\n"
     ]
    }
   ],
   "source": [
    "model_version[\"model/binary\"].upload(\"iris_classifier_model.pkl\")\n",
    "model_version.stop()"
   ]
  },
  {
   "cell_type": "markdown",
   "id": "d2990555",
   "metadata": {},
   "source": [
    "## Querying the Model and Metadata"
   ]
  },
  {
   "cell_type": "code",
   "execution_count": 55,
   "id": "edaf100b",
   "metadata": {},
   "outputs": [
    {
     "name": "stdout",
     "output_type": "stream",
     "text": [
      "https://app.neptune.ai/gouravbais08/iris-classification/m/IR-IRMOD/v/IR-IRMOD-1\n"
     ]
    }
   ],
   "source": [
    "import neptune\n",
    "import pickle\n",
    "\n",
    "# specify model version id\n",
    "version_id = 'IR-IRMOD-1' \n",
    "\n",
    "# initialize run \n",
    "model_version = neptune.init_model_version(\n",
    "    with_id=version_id,\n",
    "    project=\"gouravbais08/iris-classification\",\n",
    "    api_token=\"eyJhcGlfYWRkcmVzcyI6Imh0dHBzOi8vYXBwLm5lcHR1bmUuYWkiLCJhcGlfdXJsIjoiaHR0cHM6Ly9hcHAubmVwdHVuZS5haSIsImFwaV9rZXkiOiI1OWMxNDZlMS0zYWFlLTQ1YTMtYTgyZC00ZDg2YTQ2OWYxMzMifQ==\", # your credentials\n",
    ")"
   ]
  },
  {
   "cell_type": "code",
   "execution_count": 56,
   "id": "19e4941d",
   "metadata": {},
   "outputs": [],
   "source": [
    "# save model\n",
    "if model_version.exists(\"model/binary\"):\n",
    "    model_version[\"model/binary\"].download(f\"dataset/{version_id}_model.pkl\")"
   ]
  },
  {
   "cell_type": "code",
   "execution_count": 59,
   "id": "487a9642",
   "metadata": {},
   "outputs": [],
   "source": [
    "# load model from pickle file\n",
    "with open(f\"dataset/{version_id}_model.pkl\", 'rb') as file:  \n",
    "    clf_model_2 = pickle.load(file)"
   ]
  },
  {
   "cell_type": "code",
   "execution_count": 60,
   "id": "ef402245",
   "metadata": {},
   "outputs": [
    {
     "name": "stdout",
     "output_type": "stream",
     "text": [
      "                 precision    recall  f1-score   support\n",
      "\n",
      "    Iris-setosa       1.00      1.00      1.00        11\n",
      "Iris-versicolor       0.80      1.00      0.89         8\n",
      " Iris-virginica       1.00      0.82      0.90        11\n",
      "\n",
      "       accuracy                           0.93        30\n",
      "      macro avg       0.93      0.94      0.93        30\n",
      "   weighted avg       0.95      0.93      0.93        30\n",
      "\n"
     ]
    }
   ],
   "source": [
    "# evaluate model \n",
    "y_predict = clf_model_2.predict(X_test)\n",
    "\n",
    "# check results\n",
    "print(classification_report(y_test, y_predict)) "
   ]
  },
  {
   "cell_type": "code",
   "execution_count": 61,
   "id": "b1d0deb0",
   "metadata": {
    "scrolled": true
   },
   "outputs": [
    {
     "data": {
      "text/plain": [
       "{'algorithm': 'auto',\n",
       " 'max_iter': 30,\n",
       " 'n_neighbors': 5,\n",
       " 'p': 2,\n",
       " 'solver': 'minkowski',\n",
       " 'weights': 'uniform'}"
      ]
     },
     "execution_count": 61,
     "metadata": {},
     "output_type": "execute_result"
    }
   ],
   "source": [
    "# check metadata \n",
    "model_version[\"model/parameters\"].fetch()"
   ]
  },
  {
   "cell_type": "code",
   "execution_count": 62,
   "id": "8d200cf6",
   "metadata": {},
   "outputs": [],
   "source": [
    "# download dataset\n",
    "model_version[\"data/dataset\"].download(f\"dataset/{version_id}_data.data\")"
   ]
  },
  {
   "cell_type": "code",
   "execution_count": 63,
   "id": "28eeec20",
   "metadata": {},
   "outputs": [
    {
     "data": {
      "text/html": [
       "<div>\n",
       "<style scoped>\n",
       "    .dataframe tbody tr th:only-of-type {\n",
       "        vertical-align: middle;\n",
       "    }\n",
       "\n",
       "    .dataframe tbody tr th {\n",
       "        vertical-align: top;\n",
       "    }\n",
       "\n",
       "    .dataframe thead th {\n",
       "        text-align: right;\n",
       "    }\n",
       "</style>\n",
       "<table border=\"1\" class=\"dataframe\">\n",
       "  <thead>\n",
       "    <tr style=\"text-align: right;\">\n",
       "      <th></th>\n",
       "      <th>5.1</th>\n",
       "      <th>3.5</th>\n",
       "      <th>1.4</th>\n",
       "      <th>0.2</th>\n",
       "      <th>Iris-setosa</th>\n",
       "    </tr>\n",
       "  </thead>\n",
       "  <tbody>\n",
       "    <tr>\n",
       "      <th>0</th>\n",
       "      <td>4.9</td>\n",
       "      <td>3.0</td>\n",
       "      <td>1.4</td>\n",
       "      <td>0.2</td>\n",
       "      <td>Iris-setosa</td>\n",
       "    </tr>\n",
       "    <tr>\n",
       "      <th>1</th>\n",
       "      <td>4.7</td>\n",
       "      <td>3.2</td>\n",
       "      <td>1.3</td>\n",
       "      <td>0.2</td>\n",
       "      <td>Iris-setosa</td>\n",
       "    </tr>\n",
       "    <tr>\n",
       "      <th>2</th>\n",
       "      <td>4.6</td>\n",
       "      <td>3.1</td>\n",
       "      <td>1.5</td>\n",
       "      <td>0.2</td>\n",
       "      <td>Iris-setosa</td>\n",
       "    </tr>\n",
       "    <tr>\n",
       "      <th>3</th>\n",
       "      <td>5.0</td>\n",
       "      <td>3.6</td>\n",
       "      <td>1.4</td>\n",
       "      <td>0.2</td>\n",
       "      <td>Iris-setosa</td>\n",
       "    </tr>\n",
       "    <tr>\n",
       "      <th>4</th>\n",
       "      <td>5.4</td>\n",
       "      <td>3.9</td>\n",
       "      <td>1.7</td>\n",
       "      <td>0.4</td>\n",
       "      <td>Iris-setosa</td>\n",
       "    </tr>\n",
       "  </tbody>\n",
       "</table>\n",
       "</div>"
      ],
      "text/plain": [
       "   5.1  3.5  1.4  0.2  Iris-setosa\n",
       "0  4.9  3.0  1.4  0.2  Iris-setosa\n",
       "1  4.7  3.2  1.3  0.2  Iris-setosa\n",
       "2  4.6  3.1  1.5  0.2  Iris-setosa\n",
       "3  5.0  3.6  1.4  0.2  Iris-setosa\n",
       "4  5.4  3.9  1.7  0.4  Iris-setosa"
      ]
     },
     "execution_count": 63,
     "metadata": {},
     "output_type": "execute_result"
    }
   ],
   "source": [
    "# load the dataset \n",
    "import pandas as pd \n",
    "\n",
    "# load dataset \n",
    "iris = pd.read_csv(\"dataset/IR-IRMOD-1_data.data/iris.data\")\n",
    "\n",
    "# check first few rows\n",
    "iris.head()"
   ]
  },
  {
   "cell_type": "code",
   "execution_count": 40,
   "id": "cf446235",
   "metadata": {},
   "outputs": [
    {
     "name": "stdout",
     "output_type": "stream",
     "text": [
      "Shutting down background jobs, please wait a moment...\n",
      "Done!\n",
      "All 0 operations synced, thanks for waiting!\n",
      "Explore the metadata in the Neptune app:\n",
      "https://app.neptune.ai/gouravbais08/iris-classification/m/IR-IRMOD/metadata\n"
     ]
    }
   ],
   "source": [
    "# close session \n",
    "model.stop()"
   ]
  },
  {
   "cell_type": "code",
   "execution_count": null,
   "id": "39190691",
   "metadata": {},
   "outputs": [],
   "source": []
  }
 ],
 "metadata": {
  "kernelspec": {
   "display_name": "Python 3 (ipykernel)",
   "language": "python",
   "name": "python3"
  },
  "language_info": {
   "codemirror_mode": {
    "name": "ipython",
    "version": 3
   },
   "file_extension": ".py",
   "mimetype": "text/x-python",
   "name": "python",
   "nbconvert_exporter": "python",
   "pygments_lexer": "ipython3",
   "version": "3.11.2"
  }
 },
 "nbformat": 4,
 "nbformat_minor": 5
}
